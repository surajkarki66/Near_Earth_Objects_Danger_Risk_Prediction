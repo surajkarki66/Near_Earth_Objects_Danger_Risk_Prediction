{
 "cells": [
  {
   "cell_type": "markdown",
   "metadata": {},
   "source": [
    "# Exploratory Data Analysis\n",
    "As the name suggests, during EDA, you get a deeper understanding of the data. During this step, you want to understand your data's statistical characteristics, create visualisations, and test hypothesises."
   ]
  },
  {
   "cell_type": "markdown",
   "metadata": {},
   "source": [
    "There are four main types of EDA:\n",
    "\n",
    "1. `Univariate non-graphical`: Make observations of the population and understand sample distributions of a single variable. (e.g. the measure of spread, the measure of central tendency)\n",
    "\n",
    "2. `Univariate graphical`: Graphical analysis on a single variable. (e.g. Histograms, Boxplots, Stem and leaf)\n",
    "\n",
    "3. `Multivariate non-graphical`: Techniques which show the relationship between two or more variables. (e.g. covariance, correlations)\n",
    "\n",
    "4. `Multivariate graphical`: Graphically show the relationship between two or more variables. (e.g. bar plots, scatterplots)"
   ]
  },
  {
   "cell_type": "markdown",
   "metadata": {},
   "source": [
    "## 1. Imports"
   ]
  },
  {
   "cell_type": "code",
   "execution_count": 3,
   "metadata": {},
   "outputs": [],
   "source": [
    "import pandas as pd\n",
    "import numpy as np\n",
    "\n",
    "from scipy import stats"
   ]
  },
  {
   "cell_type": "markdown",
   "metadata": {},
   "source": [
    "## 2. Load the dataset"
   ]
  },
  {
   "cell_type": "code",
   "execution_count": 2,
   "metadata": {},
   "outputs": [
    {
     "data": {
      "text/html": [
       "<div>\n",
       "<style scoped>\n",
       "    .dataframe tbody tr th:only-of-type {\n",
       "        vertical-align: middle;\n",
       "    }\n",
       "\n",
       "    .dataframe tbody tr th {\n",
       "        vertical-align: top;\n",
       "    }\n",
       "\n",
       "    .dataframe thead th {\n",
       "        text-align: right;\n",
       "    }\n",
       "</style>\n",
       "<table border=\"1\" class=\"dataframe\">\n",
       "  <thead>\n",
       "    <tr style=\"text-align: right;\">\n",
       "      <th></th>\n",
       "      <th>absolute_magnitude</th>\n",
       "      <th>estimated_diameter_min</th>\n",
       "      <th>estimated_diameter_max</th>\n",
       "      <th>relative_velocity</th>\n",
       "      <th>miss_distance</th>\n",
       "      <th>is_hazardous</th>\n",
       "    </tr>\n",
       "  </thead>\n",
       "  <tbody>\n",
       "    <tr>\n",
       "      <th>0</th>\n",
       "      <td>19.14</td>\n",
       "      <td>0.394962</td>\n",
       "      <td>0.883161</td>\n",
       "      <td>71745.401048</td>\n",
       "      <td>5.814362e+07</td>\n",
       "      <td>0</td>\n",
       "    </tr>\n",
       "    <tr>\n",
       "      <th>1</th>\n",
       "      <td>18.50</td>\n",
       "      <td>0.530341</td>\n",
       "      <td>1.185878</td>\n",
       "      <td>109949.757148</td>\n",
       "      <td>5.580105e+07</td>\n",
       "      <td>1</td>\n",
       "    </tr>\n",
       "    <tr>\n",
       "      <th>2</th>\n",
       "      <td>21.45</td>\n",
       "      <td>0.136319</td>\n",
       "      <td>0.304818</td>\n",
       "      <td>24865.506798</td>\n",
       "      <td>6.720689e+07</td>\n",
       "      <td>0</td>\n",
       "    </tr>\n",
       "    <tr>\n",
       "      <th>3</th>\n",
       "      <td>20.63</td>\n",
       "      <td>0.198863</td>\n",
       "      <td>0.444672</td>\n",
       "      <td>78890.076805</td>\n",
       "      <td>3.039644e+07</td>\n",
       "      <td>0</td>\n",
       "    </tr>\n",
       "    <tr>\n",
       "      <th>4</th>\n",
       "      <td>22.70</td>\n",
       "      <td>0.076658</td>\n",
       "      <td>0.171412</td>\n",
       "      <td>56036.519484</td>\n",
       "      <td>6.311863e+07</td>\n",
       "      <td>0</td>\n",
       "    </tr>\n",
       "  </tbody>\n",
       "</table>\n",
       "</div>"
      ],
      "text/plain": [
       "   absolute_magnitude  estimated_diameter_min  estimated_diameter_max  \\\n",
       "0               19.14                0.394962                0.883161   \n",
       "1               18.50                0.530341                1.185878   \n",
       "2               21.45                0.136319                0.304818   \n",
       "3               20.63                0.198863                0.444672   \n",
       "4               22.70                0.076658                0.171412   \n",
       "\n",
       "   relative_velocity  miss_distance  is_hazardous  \n",
       "0       71745.401048   5.814362e+07             0  \n",
       "1      109949.757148   5.580105e+07             1  \n",
       "2       24865.506798   6.720689e+07             0  \n",
       "3       78890.076805   3.039644e+07             0  \n",
       "4       56036.519484   6.311863e+07             0  "
      ]
     },
     "execution_count": 2,
     "metadata": {},
     "output_type": "execute_result"
    }
   ],
   "source": [
    "data = pd.read_csv(\"../data/cleaned_data.csv\")\n",
    "data.head()"
   ]
  },
  {
   "cell_type": "markdown",
   "metadata": {},
   "source": [
    "## 3. Univariate Non-graphical EDA"
   ]
  },
  {
   "cell_type": "code",
   "execution_count": 4,
   "metadata": {},
   "outputs": [],
   "source": [
    "features = [\"absolute_magnitude\", \"estimated_diameter_min\", \"estimated_diameter_max\", \n",
    "            \"relative_velocity\", \"miss_distance\"]"
   ]
  },
  {
   "cell_type": "code",
   "execution_count": 5,
   "metadata": {},
   "outputs": [],
   "source": [
    "# Initialize a dictionary to store the results\n",
    "summary_stats = {}"
   ]
  },
  {
   "cell_type": "code",
   "execution_count": 6,
   "metadata": {},
   "outputs": [
    {
     "name": "stdout",
     "output_type": "stream",
     "text": [
      "Feature: absolute_magnitude\n",
      "  Mean: 22.932524959266164\n",
      "  Median: 22.8\n",
      "  Mode: 24.4\n",
      "  Std Dev: 2.911216390292147\n",
      "  Variance: 8.47518087110564\n",
      "  Range: 24.33\n",
      "  IQR: 4.360000000000003\n",
      "  Skewness: 0.08402052704253546\n",
      "  Kurtosis: -0.47557705847894116\n",
      "--------------------------------------------------\n",
      "Feature: estimated_diameter_min\n",
      "  Mean: 0.15781204666055487\n",
      "  Median: 0.0732073989\n",
      "  Mode: 0.0350392641\n",
      "  Std Dev: 0.3138851378797346\n",
      "  Variance: 0.09852387978178001\n",
      "  Range: 37.5447367783\n",
      "  IQR: 0.163656849\n",
      "  Skewness: 30.963263588764914\n",
      "  Kurtosis: 2664.6036246371696\n",
      "--------------------------------------------------\n",
      "Feature: estimated_diameter_max\n",
      "  Mean: 0.352878464000549\n",
      "  Median: 0.1636967205\n",
      "  Mode: 0.0783501764\n",
      "  Std Dev: 0.7018685054244151\n",
      "  Variance: 0.4926193989067022\n",
      "  Range: 83.9525836336\n",
      "  IQR: 0.36594783929999997\n",
      "  Skewness: 30.963263588892026\n",
      "  Kurtosis: 2664.6036246477115\n",
      "--------------------------------------------------\n",
      "Feature: relative_velocity\n",
      "  Mean: 51060.01799447809\n",
      "  Median: 47557.0463973955\n",
      "  Mode: 51964.0584077668\n",
      "  Std Dev: 26399.92283046779\n",
      "  Variance: 696955925.4546545\n",
      "  Range: 291577.76018059003\n",
      "  IQR: 35962.59739882786\n",
      "  Skewness: 0.8494672559765624\n",
      "  Kurtosis: 0.967594367510038\n",
      "--------------------------------------------------\n",
      "Feature: miss_distance\n",
      "  Mean: 41535473.46362804\n",
      "  Median: 43327242.0191749\n",
      "  Mode: 573908.202837078\n",
      "  Std Dev: 20774114.728088066\n",
      "  Variance: 431563842735765.56\n",
      "  Range: 74791905.91968124\n",
      "  IQR: 34394653.35985646\n",
      "  Skewness: -0.23505363283128158\n",
      "  Kurtosis: -1.0567208747681787\n",
      "--------------------------------------------------\n"
     ]
    }
   ],
   "source": [
    "# Loop through each feature and compute the required statistics\n",
    "for feature in features:\n",
    "    feature_data = data[feature]\n",
    "    \n",
    "    # Central Tendency\n",
    "    mean = feature_data.mean()\n",
    "    median = feature_data.median()\n",
    "    mode = feature_data.mode()[0]  # Mode returns a series, so we take the first value\n",
    "    \n",
    "    # Spread\n",
    "    std = feature_data.std()\n",
    "    var = feature_data.var()\n",
    "    range_value = feature_data.max() - feature_data.min()\n",
    "    q1 = feature_data.quantile(0.25)\n",
    "    q3 = feature_data.quantile(0.75)\n",
    "    iqr = q3 - q1\n",
    "    \n",
    "    # Skewness and Kurtosis\n",
    "    skew = feature_data.skew()\n",
    "    kurt = feature_data.kurtosis()\n",
    "    \n",
    "    # Store the results in the dictionary\n",
    "    summary_stats[feature] = {\n",
    "        'Mean': mean,\n",
    "        'Median': median,\n",
    "        'Mode': mode,\n",
    "        'Std Dev': std,\n",
    "        'Variance': var,\n",
    "        'Range': range_value,\n",
    "        'IQR': iqr,\n",
    "        'Skewness': skew,\n",
    "        'Kurtosis': kurt\n",
    "    }\n",
    "    \n",
    "    # Display the statistics for the feature\n",
    "    print(f\"Feature: {feature}\")\n",
    "    print(f\"  Mean: {mean}\")\n",
    "    print(f\"  Median: {median}\")\n",
    "    print(f\"  Mode: {mode}\")\n",
    "    print(f\"  Std Dev: {std}\")\n",
    "    print(f\"  Variance: {var}\")\n",
    "    print(f\"  Range: {range_value}\")\n",
    "    print(f\"  IQR: {iqr}\")\n",
    "    print(f\"  Skewness: {skew}\")\n",
    "    print(f\"  Kurtosis: {kurt}\")\n",
    "    print(\"-\" * 50)"
   ]
  },
  {
   "cell_type": "markdown",
   "metadata": {},
   "source": []
  }
 ],
 "metadata": {
  "kernelspec": {
   "display_name": "base",
   "language": "python",
   "name": "python3"
  },
  "language_info": {
   "codemirror_mode": {
    "name": "ipython",
    "version": 3
   },
   "file_extension": ".py",
   "mimetype": "text/x-python",
   "name": "python",
   "nbconvert_exporter": "python",
   "pygments_lexer": "ipython3",
   "version": "3.11.7"
  }
 },
 "nbformat": 4,
 "nbformat_minor": 2
}
